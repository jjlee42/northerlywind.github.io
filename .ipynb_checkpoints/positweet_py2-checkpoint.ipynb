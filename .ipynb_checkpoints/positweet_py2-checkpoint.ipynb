{
 "cells": [
  {
   "cell_type": "code",
   "execution_count": 196,
   "metadata": {
    "collapsed": true
   },
   "outputs": [],
   "source": [
    "!pip install nltk"
   ]
  },
  {
   "cell_type": "code",
   "execution_count": 15,
   "metadata": {
    "collapsed": true
   },
   "outputs": [],
   "source": [
    "%matplotlib inline"
   ]
  },
  {
   "cell_type": "code",
   "execution_count": 2,
   "metadata": {
    "collapsed": true
   },
   "outputs": [],
   "source": [
    "import tweepy\n",
    "from vaderSentiment.vaderSentiment import sentiment as sentiment"
   ]
  },
  {
   "cell_type": "code",
   "execution_count": 3,
   "metadata": {
    "collapsed": true
   },
   "outputs": [],
   "source": [
    "from nltk import sentiment as sn"
   ]
  },
  {
   "cell_type": "code",
   "execution_count": 4,
   "metadata": {
    "collapsed": true
   },
   "outputs": [],
   "source": [
    "import numpy as np"
   ]
  },
  {
   "cell_type": "code",
   "execution_count": 5,
   "metadata": {
    "collapsed": true
   },
   "outputs": [],
   "source": [
    "import json"
   ]
  },
  {
   "cell_type": "code",
   "execution_count": 6,
   "metadata": {
    "collapsed": true
   },
   "outputs": [],
   "source": [
    "import time"
   ]
  },
  {
   "cell_type": "code",
   "execution_count": 7,
   "metadata": {
    "collapsed": false
   },
   "outputs": [],
   "source": [
    "import matplotlib.pyplot as plt"
   ]
  },
  {
   "cell_type": "code",
   "execution_count": 8,
   "metadata": {
    "collapsed": true
   },
   "outputs": [],
   "source": [
    "import re"
   ]
  },
  {
   "cell_type": "code",
   "execution_count": 9,
   "metadata": {
    "collapsed": true
   },
   "outputs": [],
   "source": [
    "ACCESS_TOKEN = '2245810146-os7gvZ3pRNg841BPCp0owl0UoAxNfpKWxmcN2VJ'\n",
    "ACCESS_SECRET = 'tiuJmQqzjr0SoybM8WihIewkqACxTCX8hXwFpjoYMPGSC'\n",
    "CONSUMER_KEY = '8pd19OaqgxaF7sjISdWuYoXQi'\n",
    "CONSUMER_SECRET = 'tYcaTHMYYPtgMaFKCVPWddVUVgakQQvyRYQN4WLXZnCDb8gDsl'"
   ]
  },
  {
   "cell_type": "code",
   "execution_count": 10,
   "metadata": {
    "collapsed": false
   },
   "outputs": [],
   "source": [
    "auth = tweepy.OAuthHandler(CONSUMER_KEY, CONSUMER_SECRET)\n",
    "auth.set_access_token(ACCESS_TOKEN, ACCESS_SECRET)\n",
    "\n",
    "api = tweepy.API(auth)\n",
    "\n",
    "#what queries? \n",
    "tweets = api.search(q='#MakeStuffBetter', result_type='recent', lang='en', count=2000)\n",
    "#happy tweets q=':)'"
   ]
  },
  {
   "cell_type": "code",
   "execution_count": 11,
   "metadata": {
    "collapsed": false
   },
   "outputs": [],
   "source": [
    "def topNTweets(tweets, n, posThresh):\n",
    "    posScores = np.zeros(len(tweets)+1)\n",
    "    negScores = np.zeros(len(tweets)+1)\n",
    "    tweetTxt = [0]*(len(tweets)+1)\n",
    "    i = 0\n",
    "    \n",
    "    for t in tweets:\n",
    "        posScores[i] = sentiment(tweets[i].text.encode(\"utf-8\"))['pos']\n",
    "        negScores[i] = sentiment(tweets[i].text.encode(\"utf-8\"))['neg']\n",
    "        tweetTxt[i] = tweets[i].text\n",
    "        i += 1\n",
    "    \n",
    "    posScores = posScores[posScores>posThresh]\n",
    "    negScores = negScores[negScores<0.2]\n",
    "\n",
    "    topNIndices = np.argsort(posScores)[::-1][:n]\n",
    "#    topNIndices = np.argsort(negScores)[0:n-1]\n",
    "    \n",
    "    topN = np.array(tweetTxt)[topNIndices]\n",
    "    \n",
    "    return topN\n",
    "\n",
    "#want URLs of tweets as well "
   ]
  },
  {
   "cell_type": "code",
   "execution_count": 12,
   "metadata": {
    "collapsed": false
   },
   "outputs": [
    {
     "data": {
      "text/plain": [
       "array([ u\"@MakeHuman Hey, I'm at #makeStuffBetter and I want to use your tools. Can i get a dev to reply back to me? Have a few questions :-)\",\n",
       "       u'Beer and a collaborative Spotify playlist. What could possibly go wrong\\u2026!? @IntertechLGBT #makestuffbetter',\n",
       "       u\"Being well fed (and hydrated ;)) at @IntertechLGBT hackathon. This is all my food, and I've eaten half already..\\u2026 https://t.co/JDKjfES23f\",\n",
       "       u'@christopherward and @LiudasSurvila hard at work, while I just sit around taking photos... #makestuffbetter https://t.co/lCagGSG6pH',\n",
       "       u'Team @positweetapp hard at work @IntertechLGBT #makestuffbetter https://t.co/ftLdGJorzE'], \n",
       "      dtype='<U140')"
      ]
     },
     "execution_count": 12,
     "metadata": {},
     "output_type": "execute_result"
    }
   ],
   "source": [
    "topNTweets(tweets,5,0.2)"
   ]
  },
  {
   "cell_type": "markdown",
   "metadata": {
    "collapsed": true
   },
   "source": [
    "## Metrics"
   ]
  },
  {
   "cell_type": "code",
   "execution_count": 13,
   "metadata": {
    "collapsed": false
   },
   "outputs": [],
   "source": [
    "def averageScore(listOfTweets):\n",
    "    #Receives a list of tweets and returns the average sentiment for each\n",
    "    averages = {'pos': 0, 'neu': 0, 'neg': 0}\n",
    "    \n",
    "    for tweet in listOfTweets:\n",
    "        sent = sentiment(tweet.text.encode(\"utf-8\"))\n",
    "        averages['pos'] += sent['pos']\n",
    "        averages['neu'] += sent['neu']\n",
    "        averages['neg'] += sent['neg']\n",
    "    \n",
    "    averages['pos'] /= len(listOfTweets)\n",
    "    averages['neu'] /= len(listOfTweets)\n",
    "    averages['neg'] /= len(listOfTweets)\n",
    "    \n",
    "    pos_norm = averages['pos']/(averages['pos']+averages['neg'])\n",
    "    neg_norm = averages['neg']/(averages['pos']+averages['neg'])\n",
    "    \n",
    "    result = [pos_norm, neg_norm]\n",
    "    \n",
    "    return result\n"
   ]
  },
  {
   "cell_type": "code",
   "execution_count": 21,
   "metadata": {
    "collapsed": false
   },
   "outputs": [],
   "source": [
    "NTweets = 50\n",
    "\n",
    "NCalls = 10\n",
    "score = [0]*NCalls\n",
    "\n",
    "for call in range(NCalls): #query for most recent NTweets to see positivity progression\n",
    "    myTLtweets = api.home_timeline(count=NTweets)\n",
    "    score[call] = averageScore(myTLtweets)\n",
    "    time.sleep(120) #1 min"
   ]
  },
  {
   "cell_type": "code",
   "execution_count": null,
   "metadata": {
    "collapsed": true
   },
   "outputs": [],
   "source": [
    "def updateScore(NTweets):\n",
    "    myTLtweets = api.home_timeline(count=NTweets)\n",
    "    return np.array(averageScore(myTLtweets))\n",
    "    \n",
    "score[i] = updateScore(50) #iteration on plot..? \n",
    "    "
   ]
  },
  {
   "cell_type": "code",
   "execution_count": 282,
   "metadata": {
    "collapsed": false
   },
   "outputs": [],
   "source": [
    "#test = myTLtweets[5]\n",
    "#test.entities['hashtags'][0]['text']"
   ]
  },
  {
   "cell_type": "code",
   "execution_count": 27,
   "metadata": {
    "collapsed": false
   },
   "outputs": [
    {
     "data": {
      "image/png": "[encoded data removed]",
      "text/plain": [
       "<matplotlib.figure.Figure at 0x11b468450>"
      ]
     },
     "metadata": {},
     "output_type": "display_data"
    }
   ],
   "source": [
    "plt.plot(np.array(score)[:,0]) #plot positive tweets over time\n",
    "plt.show()"
   ]
  },
  {
   "cell_type": "code",
   "execution_count": 29,
   "metadata": {
    "collapsed": false
   },
   "outputs": [
    {
     "data": {
      "text/plain": [
       "794980297213349892"
      ]
     },
     "execution_count": 29,
     "metadata": {},
     "output_type": "execute_result"
    }
   ],
   "source": []
  },
  {
   "cell_type": "code",
   "execution_count": null,
   "metadata": {
    "collapsed": true
   },
   "outputs": [],
   "source": [
    "#api.retweet(tweets[ind].id) #retweet positive tweets to Positweet app twitter account\n",
    "#instead posting to colleciton "
   ]
  }
 ],
 "metadata": {
  "kernelspec": {
   "display_name": "Python 2",
   "language": "python",
   "name": "python2"
  },
  "language_info": {
   "codemirror_mode": {
    "name": "ipython",
    "version": 2
   },
   "file_extension": ".py",
   "mimetype": "text/x-python",
   "name": "python",
   "nbconvert_exporter": "python",
   "pygments_lexer": "ipython2",
   "version": "2.7.11"
  }
 },
 "nbformat": 4,
 "nbformat_minor": 1
}
